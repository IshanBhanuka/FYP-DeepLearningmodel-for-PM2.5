{
 "cells": [
  {
   "cell_type": "code",
   "execution_count": 1,
   "id": "d4740db2",
   "metadata": {
    "execution": {
     "iopub.execute_input": "2024-05-08T02:13:03.159412Z",
     "iopub.status.busy": "2024-05-08T02:13:03.159015Z",
     "iopub.status.idle": "2024-05-08T02:13:03.166599Z",
     "shell.execute_reply": "2024-05-08T02:13:03.165532Z",
     "shell.execute_reply.started": "2024-05-08T02:13:03.159383Z"
    },
    "id": "d82ce8ad"
   },
   "outputs": [
    {
     "name": "stdout",
     "output_type": "stream",
     "text": [
      "WARNING:tensorflow:From C:\\Users\\LAPTOP-ISHAN\\AppData\\Roaming\\Python\\Python311\\site-packages\\keras\\src\\losses.py:2976: The name tf.losses.sparse_softmax_cross_entropy is deprecated. Please use tf.compat.v1.losses.sparse_softmax_cross_entropy instead.\n",
      "\n"
     ]
    }
   ],
   "source": [
    "import pickle\n",
    "import matplotlib.pyplot as plt\n",
    "import pandas as pd\n",
    "import numpy as np\n",
    "import statsmodels.api as sm\n",
    "import random\n",
    "import tensorflow as tf\n",
    "from tensorflow.keras.models import Sequential\n",
    "from tensorflow.keras import layers\n",
    "from keras.callbacks import EarlyStopping\n",
    "from sklearn.metrics import mean_absolute_error as mae\n",
    "from sklearn.metrics import mean_squared_error as mse\n",
    "from sklearn.metrics import r2_score as rSquared\n",
    "from keras.models import Sequential\n",
    "from keras.layers import Conv2D, Dense"
   ]
  },
  {
   "cell_type": "code",
   "execution_count": 2,
   "id": "323cfce5",
   "metadata": {
    "colab": {
     "base_uri": "https://localhost:8080/"
    },
    "execution": {
     "iopub.execute_input": "2024-05-08T02:13:03.168775Z",
     "iopub.status.busy": "2024-05-08T02:13:03.168423Z",
     "iopub.status.idle": "2024-05-08T02:13:03.180826Z",
     "shell.execute_reply": "2024-05-08T02:13:03.179889Z",
     "shell.execute_reply.started": "2024-05-08T02:13:03.168748Z"
    },
    "id": "0j72tB1F_pYa",
    "outputId": "dcc527ba-9159-48e2-e2ca-835dd410ed23"
   },
   "outputs": [],
   "source": [
    "path='new_CNN_Datacube.pkl'"
   ]
  },
  {
   "cell_type": "code",
   "execution_count": 3,
   "id": "8d56d5a1",
   "metadata": {
    "execution": {
     "iopub.execute_input": "2024-05-08T02:13:03.184535Z",
     "iopub.status.busy": "2024-05-08T02:13:03.183899Z",
     "iopub.status.idle": "2024-05-08T02:13:03.346663Z",
     "shell.execute_reply": "2024-05-08T02:13:03.345318Z",
     "shell.execute_reply.started": "2024-05-08T02:13:03.184505Z"
    },
    "id": "eKOwocAI_s-4"
   },
   "outputs": [],
   "source": [
    "with open(path,'rb') as f:\n",
    "    data = pickle.load(f)"
   ]
  },
  {
   "cell_type": "code",
   "execution_count": 4,
   "id": "62b75388",
   "metadata": {
    "colab": {
     "base_uri": "https://localhost:8080/"
    },
    "execution": {
     "iopub.execute_input": "2024-05-08T02:13:03.349226Z",
     "iopub.status.busy": "2024-05-08T02:13:03.348899Z",
     "iopub.status.idle": "2024-05-08T02:13:03.361972Z",
     "shell.execute_reply": "2024-05-08T02:13:03.360816Z",
     "shell.execute_reply.started": "2024-05-08T02:13:03.349199Z"
    },
    "id": "-BZ20M_dxt1S",
    "outputId": "cb0fdc1e-9978-4734-a55c-fa5aca2580fb"
   },
   "outputs": [
    {
     "data": {
      "text/plain": [
       "{'Image': array([[[ 87,  94,  99, 255],\n",
       "         [ 76,  81,  97, 255],\n",
       "         [ 72,  79,  95, 255],\n",
       "         ...,\n",
       "         [ 87, 101,  98, 255],\n",
       "         [ 81,  90,  93, 255],\n",
       "         [ 80,  84,  91, 255]],\n",
       " \n",
       "        [[111, 105, 101, 255],\n",
       "         [106,  94,  96, 255],\n",
       "         [ 91,  77,  91, 255],\n",
       "         ...,\n",
       "         [ 86, 110, 102, 255],\n",
       "         [ 84, 103,  97, 255],\n",
       "         [ 80,  78,  91, 255]],\n",
       " \n",
       "        [[118, 106, 102, 255],\n",
       "         [113,  92,  98, 255],\n",
       "         [106,  85,  94, 255],\n",
       "         ...,\n",
       "         [ 84, 105, 105, 255],\n",
       "         [ 92, 101, 105, 255],\n",
       "         [ 96,  88,  98, 255]],\n",
       " \n",
       "        ...,\n",
       " \n",
       "        [[ 60,  81,  90, 255],\n",
       "         [ 68,  84,  99, 255],\n",
       "         [ 71,  82, 106, 255],\n",
       "         ...,\n",
       "         [135, 119, 117, 255],\n",
       "         [146, 122, 118, 255],\n",
       "         [120, 107, 107, 255]],\n",
       " \n",
       "        [[ 63,  79,  98, 255],\n",
       "         [ 66,  83,  99, 255],\n",
       "         [ 70,  80,  97, 255],\n",
       "         ...,\n",
       "         [128, 110, 114, 255],\n",
       "         [148, 110, 115, 255],\n",
       "         [128, 103, 110, 255]],\n",
       " \n",
       "        [[ 67,  79,  97, 255],\n",
       "         [ 73,  82,  96, 255],\n",
       "         [ 63,  77,  88, 255],\n",
       "         ...,\n",
       "         [125, 114, 112, 255],\n",
       "         [126, 117, 109, 255],\n",
       "         [158, 129, 125, 255]]], dtype=uint8),\n",
       " 'PM': 12.573,\n",
       " 'RF': array([35.43416667, 61.67708333, 18.        ,  3.        ,  5.        ,\n",
       "        11.25      , 11.844     ,  9.646     ,  7.031     ,  8.052     ,\n",
       "        11.635     ]),\n",
       " 'Date': '2023-05-18',\n",
       " 'Time_stamp': '09:27:51',\n",
       " 'Station_index': '37_Batticaloa',\n",
       " 'Sat_ID': '23',\n",
       " 'Near_road': 1,\n",
       " 'Green_index': 0.18,\n",
       " 'Urban_index': 0.56}"
      ]
     },
     "execution_count": 4,
     "metadata": {},
     "output_type": "execute_result"
    }
   ],
   "source": [
    "(data[10][0])"
   ]
  },
  {
   "cell_type": "code",
   "execution_count": 5,
   "id": "ccbeca50",
   "metadata": {
    "colab": {
     "base_uri": "https://localhost:8080/"
    },
    "execution": {
     "iopub.execute_input": "2024-05-08T02:13:03.363835Z",
     "iopub.status.busy": "2024-05-08T02:13:03.363404Z",
     "iopub.status.idle": "2024-05-08T02:13:03.372966Z",
     "shell.execute_reply": "2024-05-08T02:13:03.371784Z",
     "shell.execute_reply.started": "2024-05-08T02:13:03.363798Z"
    },
    "id": "kBAZWRK8ad3D",
    "outputId": "7b6a2417-b726-4207-82e3-dc94c1618dd2"
   },
   "outputs": [
    {
     "data": {
      "text/plain": [
       "1422"
      ]
     },
     "execution_count": 5,
     "metadata": {},
     "output_type": "execute_result"
    }
   ],
   "source": [
    "NearRoad_lst = []\n",
    "count = 0\n",
    "for i in data:\n",
    "    for j in i:\n",
    "        count = count +1\n",
    "        NearRoad_lst.append(j['Near_road'])\n",
    "\n",
    "len(NearRoad_lst)"
   ]
  },
  {
   "cell_type": "code",
   "execution_count": 6,
   "id": "18bd0aae",
   "metadata": {
    "colab": {
     "base_uri": "https://localhost:8080/"
    },
    "execution": {
     "iopub.execute_input": "2024-05-08T02:13:03.376443Z",
     "iopub.status.busy": "2024-05-08T02:13:03.376006Z",
     "iopub.status.idle": "2024-05-08T02:13:03.386359Z",
     "shell.execute_reply": "2024-05-08T02:13:03.385319Z",
     "shell.execute_reply.started": "2024-05-08T02:13:03.376399Z"
    },
    "id": "iQDFWWz5Z1uM",
    "outputId": "fa251ded-6328-4bba-d7cc-208b82cc2544"
   },
   "outputs": [
    {
     "data": {
      "text/plain": [
       "1422"
      ]
     },
     "execution_count": 6,
     "metadata": {},
     "output_type": "execute_result"
    }
   ],
   "source": [
    "UrbanIndex_lst = []\n",
    "count = 0\n",
    "for i in data:\n",
    "    for j in i:\n",
    "        count = count +1\n",
    "        UrbanIndex_lst.append(j['Urban_index'])\n",
    "\n",
    "len(UrbanIndex_lst)"
   ]
  },
  {
   "cell_type": "code",
   "execution_count": 7,
   "id": "4912cda3",
   "metadata": {
    "colab": {
     "base_uri": "https://localhost:8080/"
    },
    "execution": {
     "iopub.execute_input": "2024-05-08T02:13:03.389021Z",
     "iopub.status.busy": "2024-05-08T02:13:03.388199Z",
     "iopub.status.idle": "2024-05-08T02:13:03.401399Z",
     "shell.execute_reply": "2024-05-08T02:13:03.400358Z",
     "shell.execute_reply.started": "2024-05-08T02:13:03.388989Z"
    },
    "id": "0QO33sgwZoYU",
    "outputId": "16fbd93b-0ca8-4fe4-bf10-43b534bf099b"
   },
   "outputs": [
    {
     "data": {
      "text/plain": [
       "1422"
      ]
     },
     "execution_count": 7,
     "metadata": {},
     "output_type": "execute_result"
    }
   ],
   "source": [
    "GreenIndex_lst = []\n",
    "count = 0\n",
    "for i in data:\n",
    "    for j in i:\n",
    "        count = count +1\n",
    "        GreenIndex_lst.append(j['Green_index'])\n",
    "\n",
    "len(GreenIndex_lst)"
   ]
  },
  {
   "cell_type": "code",
   "execution_count": 8,
   "id": "4eb065bd",
   "metadata": {
    "colab": {
     "base_uri": "https://localhost:8080/"
    },
    "execution": {
     "iopub.execute_input": "2024-05-08T02:13:03.403189Z",
     "iopub.status.busy": "2024-05-08T02:13:03.402814Z",
     "iopub.status.idle": "2024-05-08T02:13:03.415796Z",
     "shell.execute_reply": "2024-05-08T02:13:03.414666Z",
     "shell.execute_reply.started": "2024-05-08T02:13:03.403162Z"
    },
    "id": "d769d44b",
    "outputId": "bcd60a05-8aae-4f54-decb-c23e3236201e"
   },
   "outputs": [
    {
     "data": {
      "text/plain": [
       "1422"
      ]
     },
     "execution_count": 8,
     "metadata": {},
     "output_type": "execute_result"
    }
   ],
   "source": [
    "PM_lst = []\n",
    "count = 0\n",
    "for i in data:\n",
    "    for j in i:\n",
    "        count = count +1\n",
    "        PM_lst.append(j['PM'])\n",
    "\n",
    "len(PM_lst)\n"
   ]
  },
  {
   "cell_type": "code",
   "execution_count": 9,
   "id": "ba1ced5f",
   "metadata": {
    "execution": {
     "iopub.execute_input": "2024-05-08T02:13:03.417402Z",
     "iopub.status.busy": "2024-05-08T02:13:03.417007Z",
     "iopub.status.idle": "2024-05-08T02:13:04.922964Z",
     "shell.execute_reply": "2024-05-08T02:13:04.921814Z",
     "shell.execute_reply.started": "2024-05-08T02:13:03.417373Z"
    },
    "id": "d7e8a918"
   },
   "outputs": [],
   "source": [
    "Image_lst = []\n",
    "image_size = 224\n",
    "count = 0\n",
    "for i in data:\n",
    "    for j in i:\n",
    "        count = count +1\n",
    "        Image_lst.append(j['Image'][:,:,:3])\n",
    "        #print(count,\" \",j['PM'])\n",
    "        #print(Imagess)\n",
    "\n",
    "Imagearr = np.array(Image_lst)\n",
    "Scaled_imageset=Imagearr*(1./255)\n"
   ]
  },
  {
   "cell_type": "code",
   "execution_count": 10,
   "id": "26c82f19",
   "metadata": {
    "execution": {
     "iopub.execute_input": "2024-05-08T02:13:04.924733Z",
     "iopub.status.busy": "2024-05-08T02:13:04.924415Z",
     "iopub.status.idle": "2024-05-08T02:13:04.936775Z",
     "shell.execute_reply": "2024-05-08T02:13:04.935808Z",
     "shell.execute_reply.started": "2024-05-08T02:13:04.924707Z"
    },
    "id": "c97c1ed1"
   },
   "outputs": [],
   "source": [
    "## Train-Test Split\n",
    "dataset = list(zip(Scaled_imageset,PM_lst,GreenIndex_lst,UrbanIndex_lst,NearRoad_lst))\n",
    "\n",
    "###shuffle dataset to get train, test datasets\n",
    "random.Random(42).shuffle(dataset)\n",
    "#random.shuffle(dataset)\n",
    "batch_size = 100\n",
    "total_batches = len(dataset) // batch_size\n",
    "train_batches = int(np.ceil(0.8 * total_batches))\n",
    "test_batches = total_batches - train_batches\n",
    "train, test = dataset[:train_batches*batch_size], dataset[train_batches*batch_size:]\n",
    "\n"
   ]
  },
  {
   "cell_type": "code",
   "execution_count": 11,
   "id": "a30a49a3",
   "metadata": {
    "colab": {
     "base_uri": "https://localhost:8080/",
     "height": 265
    },
    "execution": {
     "iopub.execute_input": "2024-05-08T02:13:04.938354Z",
     "iopub.status.busy": "2024-05-08T02:13:04.938091Z",
     "iopub.status.idle": "2024-05-08T02:13:04.949765Z",
     "shell.execute_reply": "2024-05-08T02:13:04.948886Z",
     "shell.execute_reply.started": "2024-05-08T02:13:04.938331Z"
    },
    "id": "-fuEynpSZk26",
    "outputId": "d865c39f-dac6-4b79-e493-89649a8e6a15"
   },
   "outputs": [
    {
     "data": {
      "text/plain": [
       "array([[[126,  97,  96],\n",
       "        [115, 104,  91],\n",
       "        [131, 113,  92],\n",
       "        ...,\n",
       "        [112, 102,  91],\n",
       "        [ 97,  89,  89],\n",
       "        [ 96,  87,  80]],\n",
       "\n",
       "       [[118,  93,  85],\n",
       "        [115,  91,  81],\n",
       "        [131, 105,  91],\n",
       "        ...,\n",
       "        [155, 128, 129],\n",
       "        [131, 113, 116],\n",
       "        [105, 100,  94]],\n",
       "\n",
       "       [[109,  89,  81],\n",
       "        [113,  80,  73],\n",
       "        [119,  87,  76],\n",
       "        ...,\n",
       "        [206, 173, 165],\n",
       "        [179, 151, 141],\n",
       "        [138, 129, 110]],\n",
       "\n",
       "       ...,\n",
       "\n",
       "       [[100,  80,  72],\n",
       "        [136, 101,  93],\n",
       "        [ 87,  86,  72],\n",
       "        ...,\n",
       "        [ 97,  72,  67],\n",
       "        [103,  68,  70],\n",
       "        [ 83,  79,  68]],\n",
       "\n",
       "       [[ 81,  91,  69],\n",
       "        [111,  87,  81],\n",
       "        [ 96,  85,  76],\n",
       "        ...,\n",
       "        [ 86,  65,  58],\n",
       "        [103,  69,  67],\n",
       "        [119,  88,  81]],\n",
       "\n",
       "       [[ 89,  97,  81],\n",
       "        [ 97,  81,  76],\n",
       "        [ 92,  70,  77],\n",
       "        ...,\n",
       "        [112,  80,  78],\n",
       "        [127,  89,  75],\n",
       "        [127,  96,  73]]], dtype=uint8)"
      ]
     },
     "execution_count": 11,
     "metadata": {},
     "output_type": "execute_result"
    }
   ],
   "source": [
    "(test[4][0]*(1.*255)).astype('uint8')"
   ]
  },
  {
   "cell_type": "code",
   "execution_count": 12,
   "id": "29f96e19",
   "metadata": {
    "colab": {
     "base_uri": "https://localhost:8080/",
     "height": 265
    },
    "execution": {
     "iopub.execute_input": "2024-05-08T02:13:04.954520Z",
     "iopub.status.busy": "2024-05-08T02:13:04.954210Z",
     "iopub.status.idle": "2024-05-08T02:13:04.961774Z",
     "shell.execute_reply": "2024-05-08T02:13:04.960735Z",
     "shell.execute_reply.started": "2024-05-08T02:13:04.954498Z"
    },
    "id": "9fe03b7f",
    "outputId": "70c2f070-1eac-4e97-bc1f-9adeed0f8614"
   },
   "outputs": [
    {
     "data": {
      "text/plain": [
       "array([[[50, 89, 69],\n",
       "        [51, 79, 65],\n",
       "        [52, 75, 58],\n",
       "        ...,\n",
       "        [88, 87, 77],\n",
       "        [38, 56, 63],\n",
       "        [35, 56, 60]],\n",
       "\n",
       "       [[48, 85, 65],\n",
       "        [48, 80, 60],\n",
       "        [44, 83, 64],\n",
       "        ...,\n",
       "        [60, 75, 69],\n",
       "        [40, 52, 48],\n",
       "        [36, 44, 44]],\n",
       "\n",
       "       [[46, 77, 54],\n",
       "        [44, 80, 52],\n",
       "        [48, 91, 58],\n",
       "        ...,\n",
       "        [51, 62, 48],\n",
       "        [51, 60, 48],\n",
       "        [40, 46, 42]],\n",
       "\n",
       "       ...,\n",
       "\n",
       "       [[73, 83, 71],\n",
       "        [76, 83, 71],\n",
       "        [75, 81, 59],\n",
       "        ...,\n",
       "        [28, 44, 50],\n",
       "        [24, 44, 40],\n",
       "        [27, 47, 42]],\n",
       "\n",
       "       [[73, 87, 68],\n",
       "        [77, 85, 68],\n",
       "        [81, 79, 72],\n",
       "        ...,\n",
       "        [30, 56, 56],\n",
       "        [28, 44, 48],\n",
       "        [25, 36, 42]],\n",
       "\n",
       "       [[79, 77, 71],\n",
       "        [81, 81, 73],\n",
       "        [95, 85, 75],\n",
       "        ...,\n",
       "        [31, 70, 52],\n",
       "        [30, 44, 54],\n",
       "        [27, 38, 54]]], dtype=uint8)"
      ]
     },
     "execution_count": 12,
     "metadata": {},
     "output_type": "execute_result"
    }
   ],
   "source": [
    "(test[5][0]*(1.*255)).astype('uint8')"
   ]
  },
  {
   "cell_type": "code",
   "execution_count": 13,
   "id": "73238001",
   "metadata": {
    "execution": {
     "iopub.execute_input": "2024-05-08T02:13:04.963798Z",
     "iopub.status.busy": "2024-05-08T02:13:04.962924Z",
     "iopub.status.idle": "2024-05-08T02:13:05.478086Z",
     "shell.execute_reply": "2024-05-08T02:13:05.477144Z",
     "shell.execute_reply.started": "2024-05-08T02:13:04.963774Z"
    },
    "id": "00e5d8b2"
   },
   "outputs": [],
   "source": [
    "X_train_img = np.array([item[0] for item in train]).reshape(-1,image_size,image_size,3)\n",
    "X_test_img = np.array([item[0] for item in test]).reshape(-1,image_size,image_size,3)\n",
    "\n",
    "y_train = np.array([item[1] for item in train]).reshape(-1)\n",
    "y_test = np.array([item[1] for item in test]).reshape(-1)\n",
    "\n",
    "X_train_auxiliary1 = np.array([item[2] for item in train]).reshape((len(train)),1)\n",
    "X_test_auxiliary1= np.array([item[2] for item in test]).reshape((len(test)),1)\n",
    "\n",
    "X_train_auxiliary2 = np.array([item[3] for item in train]).reshape((len(train)),1)\n",
    "X_test_auxiliary2= np.array([item[3] for item in test]).reshape((len(test)),1)\n",
    "\n",
    "X_train_auxiliary3 = np.array([item[4] for item in train]).reshape((len(train)),1)\n",
    "X_test_auxiliary3= np.array([item[4] for item in test]).reshape((len(test)),1)"
   ]
  },
  {
   "cell_type": "code",
   "execution_count": 14,
   "id": "ae5b12eb",
   "metadata": {
    "colab": {
     "base_uri": "https://localhost:8080/"
    },
    "execution": {
     "iopub.execute_input": "2024-05-08T02:13:05.479666Z",
     "iopub.status.busy": "2024-05-08T02:13:05.479320Z",
     "iopub.status.idle": "2024-05-08T02:13:06.015467Z",
     "shell.execute_reply": "2024-05-08T02:13:06.014426Z",
     "shell.execute_reply.started": "2024-05-08T02:13:05.479633Z"
    },
    "id": "RWdjZKCOMjnp",
    "outputId": "d1516627-4e22-4d1c-9f5e-485ba9c09ae0"
   },
   "outputs": [
    {
     "data": {
      "text/plain": [
       "(1200, 224, 224, 3)"
      ]
     },
     "execution_count": 14,
     "metadata": {},
     "output_type": "execute_result"
    }
   ],
   "source": [
    "np.array(X_train_img).shape\n"
   ]
  },
  {
   "cell_type": "code",
   "execution_count": 15,
   "id": "2692b185",
   "metadata": {
    "execution": {
     "iopub.execute_input": "2024-05-08T02:13:06.016968Z",
     "iopub.status.busy": "2024-05-08T02:13:06.016683Z",
     "iopub.status.idle": "2024-05-08T02:13:06.141576Z",
     "shell.execute_reply": "2024-05-08T02:13:06.140552Z",
     "shell.execute_reply.started": "2024-05-08T02:13:06.016943Z"
    },
    "id": "Q4itAd2v24LQ"
   },
   "outputs": [
    {
     "name": "stdout",
     "output_type": "stream",
     "text": [
      "WARNING:tensorflow:From C:\\Users\\LAPTOP-ISHAN\\AppData\\Roaming\\Python\\Python311\\site-packages\\keras\\src\\backend.py:1398: The name tf.executing_eagerly_outside_functions is deprecated. Please use tf.compat.v1.executing_eagerly_outside_functions instead.\n",
      "\n",
      "WARNING:tensorflow:From C:\\Users\\LAPTOP-ISHAN\\AppData\\Roaming\\Python\\Python311\\site-packages\\keras\\src\\layers\\pooling\\max_pooling2d.py:161: The name tf.nn.max_pool is deprecated. Please use tf.nn.max_pool2d instead.\n",
      "\n"
     ]
    }
   ],
   "source": [
    "from keras.models import Model\n",
    "from keras.layers import Input, Conv2D, Dense, Flatten, LSTM, concatenate,MaxPooling2D,Dropout\n",
    "\n",
    "image_input=Input(shape=(224,224,3))\n",
    "x=Conv2D(20, (8,8), padding='same', activation='relu', input_shape=(224, 224, 3))(image_input)\n",
    "x=MaxPooling2D(pool_size=(2, 2), strides=2)(x)\n",
    "x=Conv2D(40, (4,4), padding='same', activation='relu')(x)\n",
    "x=MaxPooling2D(pool_size=(2, 2), strides=2)(x)\n",
    "\n",
    "x=Conv2D(40, (4,4), padding='same', activation='relu')(x)\n",
    "x=MaxPooling2D(pool_size=(2, 2), strides=2)(x)\n",
    "x=Conv2D(80,  (4,4), padding='same', activation='relu')(x)\n",
    "x=MaxPooling2D(pool_size=(2, 2), strides=2)(x)\n",
    "x=Conv2D(100,  (4,4), padding='same', activation='relu')(x)\n",
    "x=MaxPooling2D(pool_size=(2, 2), strides=2)(x)\n",
    "x=Conv2D(200, (4,4), padding='same', activation='relu')(x)\n",
    "x=MaxPooling2D(pool_size=(2, 2), strides=2)(x)\n",
    "x=Conv2D(200,  (2, 2), padding='same', activation='relu')(x)\n",
    "x=MaxPooling2D(pool_size=(2, 2), strides=2)(x)\n",
    "x=Conv2D(400, (2, 2), padding='same', activation='relu')(x)\n",
    "\n",
    "x=Dropout(0.5)(x)\n",
    "\n",
    "x=Flatten()(x)\n",
    "\n",
    "\n",
    "auxiliary_input1=Input(shape=(1,))\n",
    "auxiliary_input2=Input(shape=(1,))\n",
    "auxiliary_input3=Input(shape=(1,))\n",
    "\n",
    "combined_input=concatenate([x,auxiliary_input1,auxiliary_input2,auxiliary_input3])\n",
    "\n",
    "x=Dense(200, activation='relu')(combined_input)\n",
    "x=Dense(100, activation='relu')(x)\n",
    "x=Dense(100, activation='relu')(x)\n",
    "z=Dense(1, activation='linear')(x)\n",
    "\n",
    "\n",
    "model = Model(inputs=[image_input,auxiliary_input1,auxiliary_input2,auxiliary_input3], outputs=z)\n"
   ]
  },
  {
   "cell_type": "code",
   "execution_count": 16,
   "id": "59dee24d",
   "metadata": {
    "colab": {
     "base_uri": "https://localhost:8080/",
     "height": 123
    },
    "execution": {
     "iopub.execute_input": "2024-05-08T02:13:06.143214Z",
     "iopub.status.busy": "2024-05-08T02:13:06.142923Z",
     "iopub.status.idle": "2024-05-08T02:13:06.150731Z",
     "shell.execute_reply": "2024-05-08T02:13:06.149763Z",
     "shell.execute_reply.started": "2024-05-08T02:13:06.143188Z"
    },
    "id": "D3anuAQqgIRE",
    "outputId": "69c920db-dad7-4559-c449-72eb901b73cc"
   },
   "outputs": [
    {
     "data": {
      "text/plain": [
       "\"model = Sequential([\\n  layers.Conv2D(8, (4, 4), padding='same', activation='relu', input_shape=(224, 224, 3)),\\n  layers.MaxPooling2D(pool_size=(2, 2), strides=2),\\n  layers.Conv2D(8, (4, 4), padding='same', activation='relu'),\\n  layers.MaxPooling2D(pool_size=(2, 2), strides=2),\\n  layers.Conv2D(16, (2, 2), padding='same', activation='relu'),\\n  layers.MaxPooling2D(pool_size=(2, 2), strides=2),\\n  layers.Conv2D(32,  (2, 2), padding='same', activation='relu'),\\n  layers.Conv2D(64,  (2, 2), padding='same', activation='relu'),\\n  layers.MaxPooling2D(pool_size=(2, 2), strides=2),\\n  layers.Conv2D(128,  (2, 2), padding='same', activation='relu'),\\n  layers.MaxPooling2D(pool_size=(2, 2), strides=2),\\n  layers.Conv2D(128,  (2, 2), padding='same', activation='relu'),\\n  layers.MaxPooling2D(pool_size=(2, 2), strides=2),\\n  layers.Conv2D(256, (2, 2), padding='same', activation='relu'),\\n  layers.MaxPooling2D(pool_size=(2, 2), strides=2),\\n  layers.Dropout(0.3),\\n  layers.Flatten(),\\n  layers.Dense(128, activation='relu'),\\n  layers.Dense(1, activation='linear'),\\n\\n\\n])\\n\\n\""
      ]
     },
     "execution_count": 16,
     "metadata": {},
     "output_type": "execute_result"
    }
   ],
   "source": [
    "\n",
    "'''model = Sequential([\n",
    "  layers.Conv2D(8, (4, 4), padding='same', activation='relu', input_shape=(224, 224, 3)),\n",
    "  layers.MaxPooling2D(pool_size=(2, 2), strides=2),\n",
    "  layers.Conv2D(8, (4, 4), padding='same', activation='relu'),\n",
    "  layers.MaxPooling2D(pool_size=(2, 2), strides=2),\n",
    "  layers.Conv2D(16, (2, 2), padding='same', activation='relu'),\n",
    "  layers.MaxPooling2D(pool_size=(2, 2), strides=2),\n",
    "  layers.Conv2D(32,  (2, 2), padding='same', activation='relu'),\n",
    "  layers.Conv2D(64,  (2, 2), padding='same', activation='relu'),\n",
    "  layers.MaxPooling2D(pool_size=(2, 2), strides=2),\n",
    "  layers.Conv2D(128,  (2, 2), padding='same', activation='relu'),\n",
    "  layers.MaxPooling2D(pool_size=(2, 2), strides=2),\n",
    "  layers.Conv2D(128,  (2, 2), padding='same', activation='relu'),\n",
    "  layers.MaxPooling2D(pool_size=(2, 2), strides=2),\n",
    "  layers.Conv2D(256, (2, 2), padding='same', activation='relu'),\n",
    "  layers.MaxPooling2D(pool_size=(2, 2), strides=2),\n",
    "  layers.Dropout(0.3),\n",
    "  layers.Flatten(),\n",
    "  layers.Dense(128, activation='relu'),\n",
    "  layers.Dense(1, activation='linear'),\n",
    "\n",
    "\n",
    "])\n",
    "\n",
    "'''"
   ]
  },
  {
   "cell_type": "code",
   "execution_count": 17,
   "id": "b77289cf",
   "metadata": {
    "execution": {
     "iopub.execute_input": "2024-05-08T02:13:06.152231Z",
     "iopub.status.busy": "2024-05-08T02:13:06.151920Z",
     "iopub.status.idle": "2024-05-08T02:13:06.167323Z",
     "shell.execute_reply": "2024-05-08T02:13:06.166634Z",
     "shell.execute_reply.started": "2024-05-08T02:13:06.152198Z"
    },
    "id": "f6448451"
   },
   "outputs": [
    {
     "name": "stdout",
     "output_type": "stream",
     "text": [
      "WARNING:tensorflow:From C:\\Users\\LAPTOP-ISHAN\\AppData\\Roaming\\Python\\Python311\\site-packages\\keras\\src\\optimizers\\__init__.py:309: The name tf.train.Optimizer is deprecated. Please use tf.compat.v1.train.Optimizer instead.\n",
      "\n"
     ]
    }
   ],
   "source": [
    "model.compile(loss='mae',optimizer='Adam')\n",
    "early_stop = EarlyStopping(monitor='loss', patience=35, verbose=1)"
   ]
  },
  {
   "cell_type": "code",
   "execution_count": 18,
   "id": "c19d3d7d",
   "metadata": {
    "colab": {
     "base_uri": "https://localhost:8080/"
    },
    "execution": {
     "iopub.execute_input": "2024-05-08T02:13:06.168721Z",
     "iopub.status.busy": "2024-05-08T02:13:06.168382Z"
    },
    "id": "1553ab30",
    "outputId": "fcd8cbb0-ad36-4e54-aa69-05e83b3a668f"
   },
   "outputs": [
    {
     "name": "stdout",
     "output_type": "stream",
     "text": [
      "Epoch 1/100\n",
      "WARNING:tensorflow:From C:\\Users\\LAPTOP-ISHAN\\AppData\\Roaming\\Python\\Python311\\site-packages\\keras\\src\\utils\\tf_utils.py:492: The name tf.ragged.RaggedTensorValue is deprecated. Please use tf.compat.v1.ragged.RaggedTensorValue instead.\n",
      "\n",
      "11/11 [==============================] - 38s 3s/step - loss: 9.9912 - val_loss: 10.1860\n",
      "Epoch 2/100\n",
      "11/11 [==============================] - 28s 3s/step - loss: 7.2641 - val_loss: 7.1159\n",
      "Epoch 3/100\n",
      "11/11 [==============================] - 28s 3s/step - loss: 6.1092 - val_loss: 6.2027\n",
      "Epoch 4/100\n",
      "11/11 [==============================] - 28s 3s/step - loss: 5.8606 - val_loss: 6.1257\n",
      "Epoch 5/100\n",
      "11/11 [==============================] - 29s 3s/step - loss: 5.7296 - val_loss: 6.1320\n",
      "Epoch 6/100\n",
      "11/11 [==============================] - 29s 3s/step - loss: 5.6630 - val_loss: 5.9734\n",
      "Epoch 7/100\n",
      "11/11 [==============================] - 29s 3s/step - loss: 5.4848 - val_loss: 5.9555\n",
      "Epoch 8/100\n",
      "11/11 [==============================] - 33s 3s/step - loss: 5.2886 - val_loss: 5.2752\n",
      "Epoch 9/100\n",
      "11/11 [==============================] - 37s 3s/step - loss: 5.3483 - val_loss: 5.4967\n",
      "Epoch 10/100\n",
      "11/11 [==============================] - 37s 3s/step - loss: 5.1930 - val_loss: 5.2342\n",
      "Epoch 11/100\n",
      "11/11 [==============================] - 34s 3s/step - loss: 4.9640 - val_loss: 5.1165\n",
      "Epoch 12/100\n",
      "11/11 [==============================] - 34s 3s/step - loss: 4.9797 - val_loss: 5.5162\n",
      "Epoch 13/100\n",
      "11/11 [==============================] - 34s 3s/step - loss: 4.9187 - val_loss: 4.9866\n",
      "Epoch 14/100\n",
      "11/11 [==============================] - 34s 3s/step - loss: 4.7988 - val_loss: 4.8989\n",
      "Epoch 15/100\n",
      "11/11 [==============================] - 34s 3s/step - loss: 4.8540 - val_loss: 5.2187\n",
      "Epoch 16/100\n",
      "11/11 [==============================] - 38s 3s/step - loss: 4.7697 - val_loss: 4.8003\n",
      "Epoch 17/100\n",
      "11/11 [==============================] - 37s 3s/step - loss: 4.6890 - val_loss: 5.5880\n",
      "Epoch 18/100\n",
      "11/11 [==============================] - 34s 3s/step - loss: 4.6740 - val_loss: 4.5410\n",
      "Epoch 19/100\n",
      "11/11 [==============================] - 34s 3s/step - loss: 4.5554 - val_loss: 4.8376\n",
      "Epoch 20/100\n",
      "11/11 [==============================] - 35s 3s/step - loss: 4.3933 - val_loss: 4.8731\n",
      "Epoch 21/100\n",
      "11/11 [==============================] - 34s 3s/step - loss: 4.2409 - val_loss: 4.6281\n",
      "Epoch 22/100\n",
      "11/11 [==============================] - 34s 3s/step - loss: 4.2119 - val_loss: 4.6352\n",
      "Epoch 23/100\n",
      "11/11 [==============================] - 34s 3s/step - loss: 4.2143 - val_loss: 4.6478\n",
      "Epoch 24/100\n",
      "11/11 [==============================] - 34s 3s/step - loss: 4.1114 - val_loss: 4.6208\n",
      "Epoch 25/100\n",
      "11/11 [==============================] - 34s 3s/step - loss: 4.0589 - val_loss: 4.6946\n",
      "Epoch 26/100\n",
      "11/11 [==============================] - 34s 3s/step - loss: 4.0784 - val_loss: 4.4673\n",
      "Epoch 27/100\n",
      "11/11 [==============================] - 34s 3s/step - loss: 4.3003 - val_loss: 4.7693\n",
      "Epoch 28/100\n",
      "11/11 [==============================] - 35s 3s/step - loss: 4.0697 - val_loss: 4.6357\n",
      "Epoch 29/100\n",
      "11/11 [==============================] - 34s 3s/step - loss: 4.0041 - val_loss: 4.5124\n",
      "Epoch 30/100\n",
      "11/11 [==============================] - 34s 3s/step - loss: 3.7728 - val_loss: 4.3409\n",
      "Epoch 31/100\n",
      "11/11 [==============================] - 31s 3s/step - loss: 3.8827 - val_loss: 4.5654\n",
      "Epoch 32/100\n",
      "11/11 [==============================] - 30s 3s/step - loss: 3.7275 - val_loss: 4.5954\n",
      "Epoch 33/100\n",
      "11/11 [==============================] - 30s 3s/step - loss: 3.4836 - val_loss: 4.3004\n",
      "Epoch 34/100\n",
      "11/11 [==============================] - 30s 3s/step - loss: 3.4951 - val_loss: 4.2893\n",
      "Epoch 35/100\n",
      "11/11 [==============================] - 32s 3s/step - loss: 3.3803 - val_loss: 4.4584\n",
      "Epoch 36/100\n",
      "11/11 [==============================] - 34s 3s/step - loss: 3.5702 - val_loss: 4.4346\n",
      "Epoch 37/100\n",
      "11/11 [==============================] - 35s 3s/step - loss: 3.5378 - val_loss: 4.3221\n",
      "Epoch 38/100\n",
      "11/11 [==============================] - 34s 3s/step - loss: 3.3552 - val_loss: 4.2906\n",
      "Epoch 39/100\n",
      "11/11 [==============================] - 34s 3s/step - loss: 3.2340 - val_loss: 4.1687\n",
      "Epoch 40/100\n",
      "11/11 [==============================] - 34s 3s/step - loss: 3.0931 - val_loss: 4.0105\n",
      "Epoch 41/100\n",
      "11/11 [==============================] - 34s 3s/step - loss: 3.0958 - val_loss: 4.1307\n",
      "Epoch 42/100\n",
      "11/11 [==============================] - 34s 3s/step - loss: 3.1729 - val_loss: 4.3186\n",
      "Epoch 43/100\n",
      "11/11 [==============================] - 34s 3s/step - loss: 3.0876 - val_loss: 4.0734\n",
      "Epoch 44/100\n",
      "11/11 [==============================] - 34s 3s/step - loss: 3.1260 - val_loss: 4.2546\n",
      "Epoch 45/100\n",
      "11/11 [==============================] - 34s 3s/step - loss: 3.3770 - val_loss: 4.1034\n",
      "Epoch 46/100\n",
      "11/11 [==============================] - 34s 3s/step - loss: 3.5218 - val_loss: 3.9440\n",
      "Epoch 47/100\n",
      "11/11 [==============================] - 33s 3s/step - loss: 3.0092 - val_loss: 4.0884\n",
      "Epoch 48/100\n",
      "11/11 [==============================] - 33s 3s/step - loss: 3.2579 - val_loss: 4.0060\n",
      "Epoch 49/100\n",
      "11/11 [==============================] - 34s 3s/step - loss: 3.0193 - val_loss: 3.9594\n",
      "Epoch 50/100\n",
      "11/11 [==============================] - 34s 3s/step - loss: 2.9297 - val_loss: 4.2816\n",
      "Epoch 51/100\n",
      "11/11 [==============================] - 35s 3s/step - loss: 2.9164 - val_loss: 4.0438\n",
      "Epoch 52/100\n",
      "11/11 [==============================] - 34s 3s/step - loss: 2.6504 - val_loss: 4.0629\n",
      "Epoch 53/100\n",
      "11/11 [==============================] - 34s 3s/step - loss: 2.5571 - val_loss: 4.0343\n",
      "Epoch 54/100\n",
      "11/11 [==============================] - 33s 3s/step - loss: 2.3935 - val_loss: 4.0731\n",
      "Epoch 55/100\n",
      "11/11 [==============================] - 34s 3s/step - loss: 2.5934 - val_loss: 4.2905\n",
      "Epoch 56/100\n",
      "11/11 [==============================] - 30s 3s/step - loss: 2.7119 - val_loss: 4.1268\n",
      "Epoch 57/100\n",
      "11/11 [==============================] - 33s 3s/step - loss: 2.5052 - val_loss: 4.2093\n",
      "Epoch 58/100\n",
      "11/11 [==============================] - 34s 3s/step - loss: 2.5823 - val_loss: 3.9999\n",
      "Epoch 59/100\n",
      "11/11 [==============================] - 34s 3s/step - loss: 2.6033 - val_loss: 4.0610\n",
      "Epoch 60/100\n",
      "11/11 [==============================] - 35s 3s/step - loss: 2.4197 - val_loss: 4.2517\n",
      "Epoch 61/100\n",
      "11/11 [==============================] - 36s 3s/step - loss: 2.4025 - val_loss: 3.8378\n",
      "Epoch 62/100\n",
      "11/11 [==============================] - 34s 3s/step - loss: 2.2952 - val_loss: 3.8670\n",
      "Epoch 63/100\n",
      "11/11 [==============================] - 34s 3s/step - loss: 2.1867 - val_loss: 3.9164\n",
      "Epoch 64/100\n",
      "11/11 [==============================] - 34s 3s/step - loss: 2.1278 - val_loss: 3.9310\n",
      "Epoch 65/100\n",
      "11/11 [==============================] - 34s 3s/step - loss: 2.1329 - val_loss: 3.8124\n",
      "Epoch 66/100\n",
      "11/11 [==============================] - 32s 3s/step - loss: 2.0433 - val_loss: 3.6148\n",
      "Epoch 67/100\n",
      "11/11 [==============================] - 34s 3s/step - loss: 2.1229 - val_loss: 3.9419\n",
      "Epoch 68/100\n",
      "11/11 [==============================] - 31s 3s/step - loss: 2.1755 - val_loss: 3.9975\n",
      "Epoch 69/100\n",
      "11/11 [==============================] - 30s 3s/step - loss: 2.3039 - val_loss: 3.8293\n",
      "Epoch 70/100\n",
      "11/11 [==============================] - 30s 3s/step - loss: 2.1182 - val_loss: 3.8536\n",
      "Epoch 71/100\n",
      "11/11 [==============================] - 30s 3s/step - loss: 2.1336 - val_loss: 3.9455\n",
      "Epoch 72/100\n",
      "11/11 [==============================] - 29s 3s/step - loss: 2.3666 - val_loss: 3.9568\n",
      "Epoch 73/100\n",
      "11/11 [==============================] - 29s 3s/step - loss: 2.4273 - val_loss: 4.1410\n",
      "Epoch 74/100\n",
      "11/11 [==============================] - 30s 3s/step - loss: 2.5617 - val_loss: 4.0565\n",
      "Epoch 75/100\n",
      "11/11 [==============================] - 30s 3s/step - loss: 2.3998 - val_loss: 3.7770\n",
      "Epoch 76/100\n",
      "11/11 [==============================] - 29s 3s/step - loss: 2.2967 - val_loss: 4.0812\n",
      "Epoch 77/100\n",
      "11/11 [==============================] - 31s 3s/step - loss: 2.1239 - val_loss: 4.0045\n",
      "Epoch 78/100\n",
      "11/11 [==============================] - 29s 3s/step - loss: 1.8387 - val_loss: 3.9906\n",
      "Epoch 79/100\n",
      "11/11 [==============================] - 29s 3s/step - loss: 1.8938 - val_loss: 3.7802\n",
      "Epoch 80/100\n"
     ]
    },
    {
     "name": "stdout",
     "output_type": "stream",
     "text": [
      "11/11 [==============================] - 30s 3s/step - loss: 1.7363 - val_loss: 4.2004\n",
      "Epoch 81/100\n",
      "11/11 [==============================] - 30s 3s/step - loss: 1.9190 - val_loss: 4.2399\n",
      "Epoch 82/100\n",
      "11/11 [==============================] - 29s 3s/step - loss: 1.8264 - val_loss: 3.9068\n",
      "Epoch 83/100\n",
      "11/11 [==============================] - 30s 3s/step - loss: 2.1220 - val_loss: 3.7716\n",
      "Epoch 84/100\n",
      "11/11 [==============================] - 30s 3s/step - loss: 2.2174 - val_loss: 3.6596\n",
      "Epoch 85/100\n",
      "11/11 [==============================] - 29s 3s/step - loss: 1.9794 - val_loss: 3.7543\n",
      "Epoch 86/100\n",
      "11/11 [==============================] - 30s 3s/step - loss: 1.8547 - val_loss: 3.8710\n",
      "Epoch 87/100\n",
      "11/11 [==============================] - 29s 3s/step - loss: 1.8512 - val_loss: 4.0369\n",
      "Epoch 88/100\n",
      "11/11 [==============================] - 31s 3s/step - loss: 1.9827 - val_loss: 3.9329\n",
      "Epoch 89/100\n",
      "11/11 [==============================] - 34s 3s/step - loss: 1.8206 - val_loss: 3.6978\n",
      "Epoch 90/100\n",
      "11/11 [==============================] - 34s 3s/step - loss: 1.6840 - val_loss: 3.7824\n",
      "Epoch 91/100\n",
      "11/11 [==============================] - 34s 3s/step - loss: 1.7813 - val_loss: 3.8863\n",
      "Epoch 92/100\n",
      "11/11 [==============================] - 34s 3s/step - loss: 2.0478 - val_loss: 4.0627\n",
      "Epoch 93/100\n",
      "11/11 [==============================] - 34s 3s/step - loss: 2.0533 - val_loss: 4.0076\n",
      "Epoch 94/100\n",
      "11/11 [==============================] - 34s 3s/step - loss: 2.0443 - val_loss: 3.8422\n",
      "Epoch 95/100\n",
      "11/11 [==============================] - 34s 3s/step - loss: 2.1051 - val_loss: 4.0686\n",
      "Epoch 96/100\n",
      "11/11 [==============================] - 34s 3s/step - loss: 2.0315 - val_loss: 3.6059\n",
      "Epoch 97/100\n",
      "11/11 [==============================] - 36s 3s/step - loss: 2.0597 - val_loss: 4.0740\n",
      "Epoch 98/100\n",
      "11/11 [==============================] - 35s 3s/step - loss: 2.2112 - val_loss: 3.8121\n",
      "Epoch 99/100\n",
      "11/11 [==============================] - 35s 3s/step - loss: 2.4196 - val_loss: 3.7144\n",
      "Epoch 100/100\n",
      "11/11 [==============================] - 34s 3s/step - loss: 2.5961 - val_loss: 5.0945\n"
     ]
    }
   ],
   "source": [
    "epochsize = 100\n",
    "#model = model.fit(X_train, y_train, validation_split= 0.1,epochs=10, batch_size = 100, callbacks=[early_stop],verbose= 1,shuffle=False)\n",
    "history = model.fit(x=[X_train_img,X_train_auxiliary1,X_train_auxiliary2,X_train_auxiliary3], y=y_train, validation_split= 0.1,epochs=epochsize, batch_size=100, callbacks=[early_stop],verbose= 1,shuffle=False)"
   ]
  },
  {
   "cell_type": "code",
   "execution_count": 19,
   "id": "15e7374d",
   "metadata": {
    "id": "V1IQaYVsBM_D"
   },
   "outputs": [
    {
     "data": {
      "image/png": "[encoded data removed]",
      "text/plain": [
       "<Figure size 640x480 with 1 Axes>"
      ]
     },
     "metadata": {},
     "output_type": "display_data"
    }
   ],
   "source": [
    "from matplotlib import pyplot\n",
    "pyplot.plot(history.history['loss'],'b', label='training history')\n",
    "pyplot.plot(history.history['val_loss'],'r',label='testing history')\n",
    "pyplot.title(\"Train and Test Loss function\")\n",
    "pyplot.legend()\n",
    "pyplot.show()"
   ]
  },
  {
   "cell_type": "code",
   "execution_count": 20,
   "id": "792fd946",
   "metadata": {
    "id": "8efec965",
    "scrolled": true
   },
   "outputs": [
    {
     "name": "stdout",
     "output_type": "stream",
     "text": [
      "7/7 [==============================] - 1s 165ms/step - loss: 4.7142\n"
     ]
    }
   ],
   "source": [
    "loss = model.evaluate([X_test_img,X_test_auxiliary1,X_test_auxiliary2,X_test_auxiliary3],y_test)\n",
    "#accuracy = model.evaluate(X_test, y_test)"
   ]
  },
  {
   "cell_type": "code",
   "execution_count": 21,
   "id": "18610f12",
   "metadata": {
    "id": "Q8Z0dGAt4Tej"
   },
   "outputs": [
    {
     "name": "stdout",
     "output_type": "stream",
     "text": [
      "Model: \"model\"\n",
      "__________________________________________________________________________________________________\n",
      " Layer (type)                Output Shape                 Param #   Connected to                  \n",
      "==================================================================================================\n",
      " input_1 (InputLayer)        [(None, 224, 224, 3)]        0         []                            \n",
      "                                                                                                  \n",
      " conv2d (Conv2D)             (None, 224, 224, 20)         3860      ['input_1[0][0]']             \n",
      "                                                                                                  \n",
      " max_pooling2d (MaxPooling2  (None, 112, 112, 20)         0         ['conv2d[0][0]']              \n",
      " D)                                                                                               \n",
      "                                                                                                  \n",
      " conv2d_1 (Conv2D)           (None, 112, 112, 40)         12840     ['max_pooling2d[0][0]']       \n",
      "                                                                                                  \n",
      " max_pooling2d_1 (MaxPoolin  (None, 56, 56, 40)           0         ['conv2d_1[0][0]']            \n",
      " g2D)                                                                                             \n",
      "                                                                                                  \n",
      " conv2d_2 (Conv2D)           (None, 56, 56, 40)           25640     ['max_pooling2d_1[0][0]']     \n",
      "                                                                                                  \n",
      " max_pooling2d_2 (MaxPoolin  (None, 28, 28, 40)           0         ['conv2d_2[0][0]']            \n",
      " g2D)                                                                                             \n",
      "                                                                                                  \n",
      " conv2d_3 (Conv2D)           (None, 28, 28, 80)           51280     ['max_pooling2d_2[0][0]']     \n",
      "                                                                                                  \n",
      " max_pooling2d_3 (MaxPoolin  (None, 14, 14, 80)           0         ['conv2d_3[0][0]']            \n",
      " g2D)                                                                                             \n",
      "                                                                                                  \n",
      " conv2d_4 (Conv2D)           (None, 14, 14, 100)          128100    ['max_pooling2d_3[0][0]']     \n",
      "                                                                                                  \n",
      " max_pooling2d_4 (MaxPoolin  (None, 7, 7, 100)            0         ['conv2d_4[0][0]']            \n",
      " g2D)                                                                                             \n",
      "                                                                                                  \n",
      " conv2d_5 (Conv2D)           (None, 7, 7, 200)            320200    ['max_pooling2d_4[0][0]']     \n",
      "                                                                                                  \n",
      " max_pooling2d_5 (MaxPoolin  (None, 3, 3, 200)            0         ['conv2d_5[0][0]']            \n",
      " g2D)                                                                                             \n",
      "                                                                                                  \n",
      " conv2d_6 (Conv2D)           (None, 3, 3, 200)            160200    ['max_pooling2d_5[0][0]']     \n",
      "                                                                                                  \n",
      " max_pooling2d_6 (MaxPoolin  (None, 1, 1, 200)            0         ['conv2d_6[0][0]']            \n",
      " g2D)                                                                                             \n",
      "                                                                                                  \n",
      " conv2d_7 (Conv2D)           (None, 1, 1, 400)            320400    ['max_pooling2d_6[0][0]']     \n",
      "                                                                                                  \n",
      " dropout (Dropout)           (None, 1, 1, 400)            0         ['conv2d_7[0][0]']            \n",
      "                                                                                                  \n",
      " flatten (Flatten)           (None, 400)                  0         ['dropout[0][0]']             \n",
      "                                                                                                  \n",
      " input_2 (InputLayer)        [(None, 1)]                  0         []                            \n",
      "                                                                                                  \n",
      " input_3 (InputLayer)        [(None, 1)]                  0         []                            \n",
      "                                                                                                  \n",
      " input_4 (InputLayer)        [(None, 1)]                  0         []                            \n",
      "                                                                                                  \n",
      " concatenate (Concatenate)   (None, 403)                  0         ['flatten[0][0]',             \n",
      "                                                                     'input_2[0][0]',             \n",
      "                                                                     'input_3[0][0]',             \n",
      "                                                                     'input_4[0][0]']             \n",
      "                                                                                                  \n",
      " dense (Dense)               (None, 200)                  80800     ['concatenate[0][0]']         \n",
      "                                                                                                  \n",
      " dense_1 (Dense)             (None, 100)                  20100     ['dense[0][0]']               \n",
      "                                                                                                  \n",
      " dense_2 (Dense)             (None, 100)                  10100     ['dense_1[0][0]']             \n",
      "                                                                                                  \n",
      " dense_3 (Dense)             (None, 1)                    101       ['dense_2[0][0]']             \n",
      "                                                                                                  \n",
      "==================================================================================================\n",
      "Total params: 1133621 (4.32 MB)\n",
      "Trainable params: 1133621 (4.32 MB)\n",
      "Non-trainable params: 0 (0.00 Byte)\n",
      "__________________________________________________________________________________________________\n"
     ]
    }
   ],
   "source": [
    "model.summary()"
   ]
  },
  {
   "cell_type": "code",
   "execution_count": 22,
   "id": "ac0d2580",
   "metadata": {
    "id": "6d8d4880"
   },
   "outputs": [
    {
     "name": "stdout",
     "output_type": "stream",
     "text": [
      "7/7 [==============================] - 1s 162ms/step\n",
      "Mean Absolute Error: 4.714158337567303\n",
      "Root Mean Squared Error: 6.878636580133851\n",
      "Mean Absolute Precentage Error 0.5099462100556585\n",
      "Coefficient of determination  0.29452900220130107\n"
     ]
    }
   ],
   "source": [
    "from sklearn.metrics import mean_absolute_percentage_error as mape\n",
    "\n",
    "y_pred1 = model.predict([X_test_img,X_test_auxiliary1,X_test_auxiliary2,X_test_auxiliary3])\n",
    "y_pred = y_pred1.reshape(-1)\n",
    "MAE=mae(y_test,y_pred)\n",
    "RMSE=mse(y_test,y_pred,squared=False)\n",
    "MAPE=mape(y_test,y_pred)\n",
    "R2=rSquared(y_test,y_pred)\n",
    "\n",
    "print(\"Mean Absolute Error:\", MAE)\n",
    "print(\"Root Mean Squared Error:\", RMSE)\n",
    "print(\"Mean Absolute Precentage Error\",MAPE)\n",
    "print(\"Coefficient of determination \",R2)"
   ]
  },
  {
   "cell_type": "code",
   "execution_count": 23,
   "id": "4ee13af6",
   "metadata": {
    "id": "1f5c3c28"
   },
   "outputs": [
    {
     "name": "stderr",
     "output_type": "stream",
     "text": [
      "C:\\Users\\LAPTOP-ISHAN\\AppData\\Roaming\\Python\\Python311\\site-packages\\keras\\src\\engine\\training.py:3103: UserWarning: You are saving your model as an HDF5 file via `model.save()`. This file format is considered legacy. We recommend using instead the native Keras format, e.g. `model.save('my_model.keras')`.\n",
      "  saving_api.save_model(\n"
     ]
    }
   ],
   "source": [
    "import datetime\n",
    "x=datetime.datetime.now()\n",
    "model_name=(\"{}_{}_{}_{}.hdf5\".format(x.month,x.day,x.hour,x.minute))\n",
    "\n",
    "model.save('/kaggle/working/'+model_name)"
   ]
  },
  {
   "cell_type": "code",
   "execution_count": 24,
   "id": "e676dfb9",
   "metadata": {
    "id": "f1f0d2fd"
   },
   "outputs": [
    {
     "data": {
      "image/png": "[encoded data removed]",
      "text/plain": [
       "<Figure size 1000x600 with 1 Axes>"
      ]
     },
     "metadata": {},
     "output_type": "display_data"
    }
   ],
   "source": [
    "plt.figure(figsize=(10, 6))\n",
    "\n",
    "# Plotting y_test values\n",
    "plt.scatter(y_pred, y_test, c='blue', label='True Values')\n",
    "\n",
    "max_value = max(max(y_test), max(y_pred))\n",
    "min_value = min(min(y_test), min(y_pred))\n",
    "plt.plot([min_value, max_value], [min_value, max_value], color='red',linestyle='dashed',label='Reference line')\n",
    "\n",
    "\n",
    "plt.xlabel('Predicted PM2.5 values (ug/m3)', fontsize=15)\n",
    "plt.ylabel('True PM2.5 values (ug/m3)', fontsize=15)\n",
    "#plt.legend()\n",
    "#plt.title(\"Scatter plot of Predicted Vs True PM2.5 Concentrations\")\n",
    "plt.show()\n"
   ]
  },
  {
   "cell_type": "code",
   "execution_count": null,
   "id": "286560c7",
   "metadata": {
    "id": "7e6fd2cd"
   },
   "outputs": [],
   "source": []
  }
 ],
 "metadata": {
  "accelerator": "GPU",
  "colab": {
   "gpuType": "T4",
   "provenance": []
  },
  "kaggle": {
   "accelerator": "none",
   "dataSources": [
    {
     "datasetId": 4960633,
     "sourceId": 8349683,
     "sourceType": "datasetVersion"
    }
   ],
   "dockerImageVersionId": 30699,
   "isGpuEnabled": false,
   "isInternetEnabled": true,
   "language": "python",
   "sourceType": "notebook"
  },
  "kernelspec": {
   "display_name": "Python 3 (ipykernel)",
   "language": "python",
   "name": "python3"
  },
  "language_info": {
   "codemirror_mode": {
    "name": "ipython",
    "version": 3
   },
   "file_extension": ".py",
   "mimetype": "text/x-python",
   "name": "python",
   "nbconvert_exporter": "python",
   "pygments_lexer": "ipython3",
   "version": "3.11.2"
  }
 },
 "nbformat": 4,
 "nbformat_minor": 5
}
