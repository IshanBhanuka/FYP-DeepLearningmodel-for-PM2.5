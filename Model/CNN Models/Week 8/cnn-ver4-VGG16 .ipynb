{
 "cells": [
  {
   "cell_type": "code",
   "execution_count": 34,
   "id": "d4740db2",
   "metadata": {
    "execution": {
     "iopub.execute_input": "2024-05-08T02:13:03.159412Z",
     "iopub.status.busy": "2024-05-08T02:13:03.159015Z",
     "iopub.status.idle": "2024-05-08T02:13:03.166599Z",
     "shell.execute_reply": "2024-05-08T02:13:03.165532Z",
     "shell.execute_reply.started": "2024-05-08T02:13:03.159383Z"
    },
    "id": "d82ce8ad"
   },
   "outputs": [],
   "source": [
    "import pickle\n",
    "import matplotlib.pyplot as plt\n",
    "import pandas as pd\n",
    "import numpy as np\n",
    "import statsmodels.api as sm\n",
    "import random\n",
    "import tensorflow as tf\n",
    "from tensorflow.keras.models import Sequential\n",
    "from tensorflow.keras import layers\n",
    "from keras.callbacks import EarlyStopping\n",
    "from sklearn.metrics import mean_absolute_error as mae\n",
    "from sklearn.metrics import mean_squared_error as mse\n",
    "from sklearn.metrics import r2_score as rSquared\n",
    "from keras.models import Sequential\n",
    "from keras.layers import Conv2D, Dense\n",
    "\n",
    "\n",
    "\n",
    "from tensorflow.keras.applications import VGG16\n",
    "\n",
    "from tensorflow.keras.layers import Dense, Flatten, Dropout\n",
    "from tensorflow.keras.preprocessing.image import ImageDataGenerator"
   ]
  },
  {
   "cell_type": "code",
   "execution_count": 35,
   "id": "323cfce5",
   "metadata": {
    "colab": {
     "base_uri": "https://localhost:8080/"
    },
    "execution": {
     "iopub.execute_input": "2024-05-08T02:13:03.168775Z",
     "iopub.status.busy": "2024-05-08T02:13:03.168423Z",
     "iopub.status.idle": "2024-05-08T02:13:03.180826Z",
     "shell.execute_reply": "2024-05-08T02:13:03.179889Z",
     "shell.execute_reply.started": "2024-05-08T02:13:03.168748Z"
    },
    "id": "0j72tB1F_pYa",
    "outputId": "dcc527ba-9159-48e2-e2ca-835dd410ed23"
   },
   "outputs": [],
   "source": [
    "path='new_CNN_Datacube.pkl'"
   ]
  },
  {
   "cell_type": "code",
   "execution_count": 36,
   "id": "8d56d5a1",
   "metadata": {
    "execution": {
     "iopub.execute_input": "2024-05-08T02:13:03.184535Z",
     "iopub.status.busy": "2024-05-08T02:13:03.183899Z",
     "iopub.status.idle": "2024-05-08T02:13:03.346663Z",
     "shell.execute_reply": "2024-05-08T02:13:03.345318Z",
     "shell.execute_reply.started": "2024-05-08T02:13:03.184505Z"
    },
    "id": "eKOwocAI_s-4"
   },
   "outputs": [],
   "source": [
    "with open(path,'rb') as f:\n",
    "    data = pickle.load(f)"
   ]
  },
  {
   "cell_type": "code",
   "execution_count": 37,
   "id": "62b75388",
   "metadata": {
    "colab": {
     "base_uri": "https://localhost:8080/"
    },
    "execution": {
     "iopub.execute_input": "2024-05-08T02:13:03.349226Z",
     "iopub.status.busy": "2024-05-08T02:13:03.348899Z",
     "iopub.status.idle": "2024-05-08T02:13:03.361972Z",
     "shell.execute_reply": "2024-05-08T02:13:03.360816Z",
     "shell.execute_reply.started": "2024-05-08T02:13:03.349199Z"
    },
    "id": "-BZ20M_dxt1S",
    "outputId": "cb0fdc1e-9978-4734-a55c-fa5aca2580fb"
   },
   "outputs": [
    {
     "data": {
      "text/plain": [
       "{'Image': array([[[ 87,  94,  99, 255],\n",
       "         [ 76,  81,  97, 255],\n",
       "         [ 72,  79,  95, 255],\n",
       "         ...,\n",
       "         [ 87, 101,  98, 255],\n",
       "         [ 81,  90,  93, 255],\n",
       "         [ 80,  84,  91, 255]],\n",
       " \n",
       "        [[111, 105, 101, 255],\n",
       "         [106,  94,  96, 255],\n",
       "         [ 91,  77,  91, 255],\n",
       "         ...,\n",
       "         [ 86, 110, 102, 255],\n",
       "         [ 84, 103,  97, 255],\n",
       "         [ 80,  78,  91, 255]],\n",
       " \n",
       "        [[118, 106, 102, 255],\n",
       "         [113,  92,  98, 255],\n",
       "         [106,  85,  94, 255],\n",
       "         ...,\n",
       "         [ 84, 105, 105, 255],\n",
       "         [ 92, 101, 105, 255],\n",
       "         [ 96,  88,  98, 255]],\n",
       " \n",
       "        ...,\n",
       " \n",
       "        [[ 60,  81,  90, 255],\n",
       "         [ 68,  84,  99, 255],\n",
       "         [ 71,  82, 106, 255],\n",
       "         ...,\n",
       "         [135, 119, 117, 255],\n",
       "         [146, 122, 118, 255],\n",
       "         [120, 107, 107, 255]],\n",
       " \n",
       "        [[ 63,  79,  98, 255],\n",
       "         [ 66,  83,  99, 255],\n",
       "         [ 70,  80,  97, 255],\n",
       "         ...,\n",
       "         [128, 110, 114, 255],\n",
       "         [148, 110, 115, 255],\n",
       "         [128, 103, 110, 255]],\n",
       " \n",
       "        [[ 67,  79,  97, 255],\n",
       "         [ 73,  82,  96, 255],\n",
       "         [ 63,  77,  88, 255],\n",
       "         ...,\n",
       "         [125, 114, 112, 255],\n",
       "         [126, 117, 109, 255],\n",
       "         [158, 129, 125, 255]]], dtype=uint8),\n",
       " 'PM': 12.573,\n",
       " 'RF': array([35.43416667, 61.67708333, 18.        ,  3.        ,  5.        ,\n",
       "        11.25      , 11.844     ,  9.646     ,  7.031     ,  8.052     ,\n",
       "        11.635     ]),\n",
       " 'Date': '2023-05-18',\n",
       " 'Time_stamp': '09:27:51',\n",
       " 'Station_index': '37_Batticaloa',\n",
       " 'Sat_ID': '23',\n",
       " 'Near_road': 1,\n",
       " 'Green_index': 0.18,\n",
       " 'Urban_index': 0.56}"
      ]
     },
     "execution_count": 37,
     "metadata": {},
     "output_type": "execute_result"
    }
   ],
   "source": [
    "(data[10][0])"
   ]
  },
  {
   "cell_type": "code",
   "execution_count": 38,
   "id": "ccbeca50",
   "metadata": {
    "colab": {
     "base_uri": "https://localhost:8080/"
    },
    "execution": {
     "iopub.execute_input": "2024-05-08T02:13:03.363835Z",
     "iopub.status.busy": "2024-05-08T02:13:03.363404Z",
     "iopub.status.idle": "2024-05-08T02:13:03.372966Z",
     "shell.execute_reply": "2024-05-08T02:13:03.371784Z",
     "shell.execute_reply.started": "2024-05-08T02:13:03.363798Z"
    },
    "id": "kBAZWRK8ad3D",
    "outputId": "7b6a2417-b726-4207-82e3-dc94c1618dd2"
   },
   "outputs": [
    {
     "data": {
      "text/plain": [
       "1422"
      ]
     },
     "execution_count": 38,
     "metadata": {},
     "output_type": "execute_result"
    }
   ],
   "source": [
    "NearRoad_lst = []\n",
    "count = 0\n",
    "for i in data:\n",
    "    for j in i:\n",
    "        count = count +1\n",
    "        NearRoad_lst.append(j['Near_road'])\n",
    "\n",
    "len(NearRoad_lst)"
   ]
  },
  {
   "cell_type": "code",
   "execution_count": 39,
   "id": "18bd0aae",
   "metadata": {
    "colab": {
     "base_uri": "https://localhost:8080/"
    },
    "execution": {
     "iopub.execute_input": "2024-05-08T02:13:03.376443Z",
     "iopub.status.busy": "2024-05-08T02:13:03.376006Z",
     "iopub.status.idle": "2024-05-08T02:13:03.386359Z",
     "shell.execute_reply": "2024-05-08T02:13:03.385319Z",
     "shell.execute_reply.started": "2024-05-08T02:13:03.376399Z"
    },
    "id": "iQDFWWz5Z1uM",
    "outputId": "fa251ded-6328-4bba-d7cc-208b82cc2544"
   },
   "outputs": [
    {
     "data": {
      "text/plain": [
       "1422"
      ]
     },
     "execution_count": 39,
     "metadata": {},
     "output_type": "execute_result"
    }
   ],
   "source": [
    "UrbanIndex_lst = []\n",
    "count = 0\n",
    "for i in data:\n",
    "    for j in i:\n",
    "        count = count +1\n",
    "        UrbanIndex_lst.append(j['Urban_index'])\n",
    "\n",
    "len(UrbanIndex_lst)"
   ]
  },
  {
   "cell_type": "code",
   "execution_count": 40,
   "id": "4912cda3",
   "metadata": {
    "colab": {
     "base_uri": "https://localhost:8080/"
    },
    "execution": {
     "iopub.execute_input": "2024-05-08T02:13:03.389021Z",
     "iopub.status.busy": "2024-05-08T02:13:03.388199Z",
     "iopub.status.idle": "2024-05-08T02:13:03.401399Z",
     "shell.execute_reply": "2024-05-08T02:13:03.400358Z",
     "shell.execute_reply.started": "2024-05-08T02:13:03.388989Z"
    },
    "id": "0QO33sgwZoYU",
    "outputId": "16fbd93b-0ca8-4fe4-bf10-43b534bf099b"
   },
   "outputs": [
    {
     "data": {
      "text/plain": [
       "1422"
      ]
     },
     "execution_count": 40,
     "metadata": {},
     "output_type": "execute_result"
    }
   ],
   "source": [
    "GreenIndex_lst = []\n",
    "count = 0\n",
    "for i in data:\n",
    "    for j in i:\n",
    "        count = count +1\n",
    "        GreenIndex_lst.append(j['Green_index'])\n",
    "\n",
    "len(GreenIndex_lst)"
   ]
  },
  {
   "cell_type": "code",
   "execution_count": 41,
   "id": "4eb065bd",
   "metadata": {
    "colab": {
     "base_uri": "https://localhost:8080/"
    },
    "execution": {
     "iopub.execute_input": "2024-05-08T02:13:03.403189Z",
     "iopub.status.busy": "2024-05-08T02:13:03.402814Z",
     "iopub.status.idle": "2024-05-08T02:13:03.415796Z",
     "shell.execute_reply": "2024-05-08T02:13:03.414666Z",
     "shell.execute_reply.started": "2024-05-08T02:13:03.403162Z"
    },
    "id": "d769d44b",
    "outputId": "bcd60a05-8aae-4f54-decb-c23e3236201e"
   },
   "outputs": [
    {
     "data": {
      "text/plain": [
       "1422"
      ]
     },
     "execution_count": 41,
     "metadata": {},
     "output_type": "execute_result"
    }
   ],
   "source": [
    "PM_lst = []\n",
    "count = 0\n",
    "for i in data:\n",
    "    for j in i:\n",
    "        count = count +1\n",
    "        PM_lst.append(j['PM'])\n",
    "\n",
    "len(PM_lst)\n"
   ]
  },
  {
   "cell_type": "code",
   "execution_count": 42,
   "id": "ba1ced5f",
   "metadata": {
    "execution": {
     "iopub.execute_input": "2024-05-08T02:13:03.417402Z",
     "iopub.status.busy": "2024-05-08T02:13:03.417007Z",
     "iopub.status.idle": "2024-05-08T02:13:04.922964Z",
     "shell.execute_reply": "2024-05-08T02:13:04.921814Z",
     "shell.execute_reply.started": "2024-05-08T02:13:03.417373Z"
    },
    "id": "d7e8a918"
   },
   "outputs": [
    {
     "ename": "MemoryError",
     "evalue": "Unable to allocate 1.59 GiB for an array with shape (1422, 224, 224, 3) and data type float64",
     "output_type": "error",
     "traceback": [
      "\u001b[1;31m---------------------------------------------------------------------------\u001b[0m",
      "\u001b[1;31mMemoryError\u001b[0m                               Traceback (most recent call last)",
      "Cell \u001b[1;32mIn[42], line 12\u001b[0m\n\u001b[0;32m      8\u001b[0m         \u001b[38;5;66;03m#print(count,\" \",j['PM'])\u001b[39;00m\n\u001b[0;32m      9\u001b[0m         \u001b[38;5;66;03m#print(Imagess)\u001b[39;00m\n\u001b[0;32m     11\u001b[0m Imagearr \u001b[38;5;241m=\u001b[39m np\u001b[38;5;241m.\u001b[39marray(Image_lst)\n\u001b[1;32m---> 12\u001b[0m Scaled_imageset\u001b[38;5;241m=\u001b[39m\u001b[43mImagearr\u001b[49m\u001b[38;5;241;43m*\u001b[39;49m\u001b[43m(\u001b[49m\u001b[38;5;241;43m1.\u001b[39;49m\u001b[38;5;241;43m/\u001b[39;49m\u001b[38;5;241;43m255\u001b[39;49m\u001b[43m)\u001b[49m\n",
      "\u001b[1;31mMemoryError\u001b[0m: Unable to allocate 1.59 GiB for an array with shape (1422, 224, 224, 3) and data type float64"
     ]
    }
   ],
   "source": [
    "Image_lst = []\n",
    "image_size = 224\n",
    "count = 0\n",
    "for i in data:\n",
    "    for j in i:\n",
    "        count = count +1\n",
    "        Image_lst.append(j['Image'][:,:,:3])\n",
    "        #print(count,\" \",j['PM'])\n",
    "        #print(Imagess)\n",
    "\n",
    "Imagearr = np.array(Image_lst)\n",
    "Scaled_imageset=Imagearr*(1./255)\n"
   ]
  },
  {
   "cell_type": "code",
   "execution_count": null,
   "id": "26c82f19",
   "metadata": {
    "execution": {
     "iopub.execute_input": "2024-05-08T02:13:04.924733Z",
     "iopub.status.busy": "2024-05-08T02:13:04.924415Z",
     "iopub.status.idle": "2024-05-08T02:13:04.936775Z",
     "shell.execute_reply": "2024-05-08T02:13:04.935808Z",
     "shell.execute_reply.started": "2024-05-08T02:13:04.924707Z"
    },
    "id": "c97c1ed1"
   },
   "outputs": [],
   "source": [
    "## Train-Test Split\n",
    "dataset = list(zip(Scaled_imageset,PM_lst))\n",
    "\n",
    "###shuffle dataset to get train, test datasets\n",
    "random.Random(42).shuffle(dataset)\n",
    "#random.shuffle(dataset)\n",
    "batch_size = 100\n",
    "total_batches = len(dataset) // batch_size\n",
    "train_batches = int(np.ceil(0.8 * total_batches))\n",
    "test_batches = total_batches - train_batches\n",
    "train, test = dataset[:train_batches*batch_size], dataset[train_batches*batch_size:]\n",
    "\n"
   ]
  },
  {
   "cell_type": "code",
   "execution_count": null,
   "id": "a30a49a3",
   "metadata": {
    "colab": {
     "base_uri": "https://localhost:8080/",
     "height": 265
    },
    "execution": {
     "iopub.execute_input": "2024-05-08T02:13:04.938354Z",
     "iopub.status.busy": "2024-05-08T02:13:04.938091Z",
     "iopub.status.idle": "2024-05-08T02:13:04.949765Z",
     "shell.execute_reply": "2024-05-08T02:13:04.948886Z",
     "shell.execute_reply.started": "2024-05-08T02:13:04.938331Z"
    },
    "id": "-fuEynpSZk26",
    "outputId": "d865c39f-dac6-4b79-e493-89649a8e6a15"
   },
   "outputs": [],
   "source": [
    "(test[4][0]*(1.*255)).astype('uint8')"
   ]
  },
  {
   "cell_type": "code",
   "execution_count": null,
   "id": "29f96e19",
   "metadata": {
    "colab": {
     "base_uri": "https://localhost:8080/",
     "height": 265
    },
    "execution": {
     "iopub.execute_input": "2024-05-08T02:13:04.954520Z",
     "iopub.status.busy": "2024-05-08T02:13:04.954210Z",
     "iopub.status.idle": "2024-05-08T02:13:04.961774Z",
     "shell.execute_reply": "2024-05-08T02:13:04.960735Z",
     "shell.execute_reply.started": "2024-05-08T02:13:04.954498Z"
    },
    "id": "9fe03b7f",
    "outputId": "70c2f070-1eac-4e97-bc1f-9adeed0f8614"
   },
   "outputs": [],
   "source": [
    "(test[5][0]*(1.*255)).astype('uint8')"
   ]
  },
  {
   "cell_type": "code",
   "execution_count": null,
   "id": "73238001",
   "metadata": {
    "execution": {
     "iopub.execute_input": "2024-05-08T02:13:04.963798Z",
     "iopub.status.busy": "2024-05-08T02:13:04.962924Z",
     "iopub.status.idle": "2024-05-08T02:13:05.478086Z",
     "shell.execute_reply": "2024-05-08T02:13:05.477144Z",
     "shell.execute_reply.started": "2024-05-08T02:13:04.963774Z"
    },
    "id": "00e5d8b2"
   },
   "outputs": [],
   "source": [
    "X_train_img = np.array([item[0] for item in train]).reshape(-1,image_size,image_size,3)\n",
    "X_test_img = np.array([item[0] for item in test]).reshape(-1,image_size,image_size,3)\n",
    "\n",
    "y_train = np.array([item[1] for item in train]).reshape(-1)\n",
    "y_test = np.array([item[1] for item in test]).reshape(-1)\n",
    "\n",
    "'''X_train_auxiliary1 = np.array([item[2] for item in train]).reshape((len(train)),1)\n",
    "X_test_auxiliary1= np.array([item[2] for item in test]).reshape((len(test)),1)\n",
    "\n",
    "X_train_auxiliary2 = np.array([item[3] for item in train]).reshape((len(train)),1)\n",
    "X_test_auxiliary2= np.array([item[3] for item in test]).reshape((len(test)),1)\n",
    "\n",
    "X_train_auxiliary3 = np.array([item[4] for item in train]).reshape((len(train)),1)\n",
    "X_test_auxiliary3= np.array([item[4] for item in test]).reshape((len(test)),1)'''"
   ]
  },
  {
   "cell_type": "code",
   "execution_count": null,
   "id": "ae5b12eb",
   "metadata": {
    "colab": {
     "base_uri": "https://localhost:8080/"
    },
    "execution": {
     "iopub.execute_input": "2024-05-08T02:13:05.479666Z",
     "iopub.status.busy": "2024-05-08T02:13:05.479320Z",
     "iopub.status.idle": "2024-05-08T02:13:06.015467Z",
     "shell.execute_reply": "2024-05-08T02:13:06.014426Z",
     "shell.execute_reply.started": "2024-05-08T02:13:05.479633Z"
    },
    "id": "RWdjZKCOMjnp",
    "outputId": "d1516627-4e22-4d1c-9f5e-485ba9c09ae0"
   },
   "outputs": [],
   "source": [
    "np.array(X_train_img).shape\n"
   ]
  },
  {
   "cell_type": "code",
   "execution_count": null,
   "id": "dbd28bc4",
   "metadata": {},
   "outputs": [],
   "source": [
    "base_model = VGG16(weights='imagenet', include_top=False, input_shape=(224, 224, 3))"
   ]
  },
  {
   "cell_type": "code",
   "execution_count": null,
   "id": "2692b185",
   "metadata": {
    "execution": {
     "iopub.execute_input": "2024-05-08T02:13:06.016968Z",
     "iopub.status.busy": "2024-05-08T02:13:06.016683Z",
     "iopub.status.idle": "2024-05-08T02:13:06.141576Z",
     "shell.execute_reply": "2024-05-08T02:13:06.140552Z",
     "shell.execute_reply.started": "2024-05-08T02:13:06.016943Z"
    },
    "id": "Q4itAd2v24LQ"
   },
   "outputs": [],
   "source": [
    "# Freeze the base model layers\n",
    "for layer in base_model.layers:\n",
    "    layer.trainable = False\n",
    "\n",
    "# Create a new model and add custom layers\n",
    "model = Sequential([\n",
    "    base_model,\n",
    "    Flatten(),\n",
    "    Dropout(0.5),\n",
    "    Dense(128, activation='relu'),\n",
    "    Dense(1)  # Output layer for PM2.5 prediction\n",
    "])\n"
   ]
  },
  {
   "cell_type": "code",
   "execution_count": null,
   "id": "b77289cf",
   "metadata": {
    "execution": {
     "iopub.execute_input": "2024-05-08T02:13:06.152231Z",
     "iopub.status.busy": "2024-05-08T02:13:06.151920Z",
     "iopub.status.idle": "2024-05-08T02:13:06.167323Z",
     "shell.execute_reply": "2024-05-08T02:13:06.166634Z",
     "shell.execute_reply.started": "2024-05-08T02:13:06.152198Z"
    },
    "id": "f6448451"
   },
   "outputs": [],
   "source": [
    "# Compile the model\n",
    "model.compile(optimizer='adam', loss='mae', metrics=['mae'])\n",
    "early_stop = EarlyStopping(monitor='val_loss', patience=10, verbose=1)"
   ]
  },
  {
   "cell_type": "code",
   "execution_count": null,
   "id": "c19d3d7d",
   "metadata": {
    "colab": {
     "base_uri": "https://localhost:8080/"
    },
    "execution": {
     "iopub.execute_input": "2024-05-08T02:13:06.168721Z",
     "iopub.status.busy": "2024-05-08T02:13:06.168382Z"
    },
    "id": "1553ab30",
    "outputId": "fcd8cbb0-ad36-4e54-aa69-05e83b3a668f"
   },
   "outputs": [],
   "source": [
    "epochsize = 10\n",
    "#model = model.fit(X_train, y_train, validation_split= 0.1,epochs=10, batch_size = 100, callbacks=[early_stop],verbose= 1,shuffle=False)\n",
    "history = model.fit(x=X_train_img, y=y_train, validation_split= 0.1,epochs=epochsize, batch_size=100, callbacks=[early_stop],verbose= 1,shuffle=False)"
   ]
  },
  {
   "cell_type": "code",
   "execution_count": null,
   "id": "15e7374d",
   "metadata": {
    "id": "V1IQaYVsBM_D"
   },
   "outputs": [],
   "source": [
    "from matplotlib import pyplot\n",
    "pyplot.plot(history.history['loss'],'b', label='training history')\n",
    "pyplot.plot(history.history['val_loss'],'r',label='testing history')\n",
    "pyplot.title(\"Train and Test Loss function\")\n",
    "pyplot.legend()\n",
    "pyplot.show()"
   ]
  },
  {
   "cell_type": "code",
   "execution_count": null,
   "id": "792fd946",
   "metadata": {
    "id": "8efec965",
    "scrolled": true
   },
   "outputs": [],
   "source": [
    "loss = model.evaluate([X_test_img,X_test_auxiliary1,X_test_auxiliary2,X_test_auxiliary3],y_test)\n",
    "#accuracy = model.evaluate(X_test, y_test)"
   ]
  },
  {
   "cell_type": "code",
   "execution_count": null,
   "id": "18610f12",
   "metadata": {
    "id": "Q8Z0dGAt4Tej"
   },
   "outputs": [],
   "source": [
    "model.summary()"
   ]
  },
  {
   "cell_type": "code",
   "execution_count": null,
   "id": "ac0d2580",
   "metadata": {
    "id": "6d8d4880"
   },
   "outputs": [],
   "source": [
    "from sklearn.metrics import mean_absolute_percentage_error as mape\n",
    "\n",
    "y_pred1 = model.predict([X_test_img,X_test_auxiliary1,X_test_auxiliary2,X_test_auxiliary3])\n",
    "y_pred = y_pred1.reshape(-1)\n",
    "MAE=mae(y_test,y_pred)\n",
    "RMSE=mse(y_test,y_pred,squared=False)\n",
    "MAPE=mape(y_test,y_pred)\n",
    "R2=rSquared(y_test,y_pred)\n",
    "\n",
    "print(\"Mean Absolute Error:\", MAE)\n",
    "print(\"Root Mean Squared Error:\", RMSE)\n",
    "print(\"Mean Absolute Precentage Error\",MAPE)\n",
    "print(\"Coefficient of determination \",R2)"
   ]
  },
  {
   "cell_type": "code",
   "execution_count": null,
   "id": "4ee13af6",
   "metadata": {
    "id": "1f5c3c28"
   },
   "outputs": [],
   "source": [
    "import datetime\n",
    "x=datetime.datetime.now()\n",
    "model_name=(\"{}_{}_{}_{}.hdf5\".format(x.month,x.day,x.hour,x.minute))\n",
    "\n",
    "model.save('/kaggle/working/'+model_name)"
   ]
  },
  {
   "cell_type": "code",
   "execution_count": null,
   "id": "e676dfb9",
   "metadata": {
    "id": "f1f0d2fd"
   },
   "outputs": [],
   "source": [
    "plt.figure(figsize=(10, 6))\n",
    "\n",
    "# Plotting y_test values\n",
    "plt.scatter(y_pred, y_test, c='blue', label='True Values')\n",
    "\n",
    "max_value = max(max(y_test), max(y_pred))\n",
    "min_value = min(min(y_test), min(y_pred))\n",
    "plt.plot([min_value, max_value], [min_value, max_value], color='red',linestyle='dashed',label='Reference line')\n",
    "\n",
    "\n",
    "plt.xlabel('Predicted PM2.5 values (ug/m3)', fontsize=15)\n",
    "plt.ylabel('True PM2.5 values (ug/m3)', fontsize=15)\n",
    "#plt.legend()\n",
    "#plt.title(\"Scatter plot of Predicted Vs True PM2.5 Concentrations\")\n",
    "plt.show()\n"
   ]
  },
  {
   "cell_type": "code",
   "execution_count": null,
   "id": "286560c7",
   "metadata": {
    "id": "7e6fd2cd"
   },
   "outputs": [],
   "source": []
  }
 ],
 "metadata": {
  "accelerator": "GPU",
  "colab": {
   "gpuType": "T4",
   "provenance": []
  },
  "kaggle": {
   "accelerator": "none",
   "dataSources": [
    {
     "datasetId": 4960633,
     "sourceId": 8349683,
     "sourceType": "datasetVersion"
    }
   ],
   "dockerImageVersionId": 30699,
   "isGpuEnabled": false,
   "isInternetEnabled": true,
   "language": "python",
   "sourceType": "notebook"
  },
  "kernelspec": {
   "display_name": "Python 3 (ipykernel)",
   "language": "python",
   "name": "python3"
  },
  "language_info": {
   "codemirror_mode": {
    "name": "ipython",
    "version": 3
   },
   "file_extension": ".py",
   "mimetype": "text/x-python",
   "name": "python",
   "nbconvert_exporter": "python",
   "pygments_lexer": "ipython3",
   "version": "3.11.2"
  }
 },
 "nbformat": 4,
 "nbformat_minor": 5
}
